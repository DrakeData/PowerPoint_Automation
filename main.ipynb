{
 "cells": [
  {
   "cell_type": "markdown",
   "id": "a2cd2241",
   "metadata": {},
   "source": [
    "# PowerPoint Automation\n",
    "This notbook contains code examples on how to automate PowerPoint presentaitons using python."
   ]
  },
  {
   "cell_type": "code",
   "execution_count": 1,
   "id": "e98cdff3",
   "metadata": {},
   "outputs": [],
   "source": [
    "# ! pip install python-pptx"
   ]
  },
  {
   "cell_type": "code",
   "execution_count": 2,
   "id": "df64da31",
   "metadata": {},
   "outputs": [],
   "source": [
    "import pandas as pd\n",
    "import os\n",
    "import glob\n",
    "\n",
    "from pptx import Presentation\n",
    "from pptx.util import Inches, Pt\n",
    "from pptx.dml.color import RGBColor\n",
    "from pptx.enum.text import PP_ALIGN\n",
    "from pptx.chart.data import CategoryChartData\n",
    "from pptx.enum.chart import XL_CHART_TYPE"
   ]
  },
  {
   "cell_type": "markdown",
   "id": "208cd1c8",
   "metadata": {},
   "source": [
    "## Directory Paths"
   ]
  },
  {
   "cell_type": "code",
   "execution_count": 3,
   "id": "8fc967b9",
   "metadata": {},
   "outputs": [
    {
     "name": "stdout",
     "output_type": "stream",
     "text": [
      "ROOT_DIR: C:\\Users\\Nicholas\\Documents\\Python\\PowerPoint_Automation\n",
      "REF_FILES_DIR: C:\\Users\\Nicholas\\Documents\\Python\\PowerPoint_Automation\\reference_files\n",
      "REPORT_DIR: C:\\Users\\Nicholas\\Documents\\Python\\PowerPoint_Automation\\reports\n"
     ]
    }
   ],
   "source": [
    "ROOT_DIR = os.getcwd()\n",
    "print(f\"ROOT_DIR: {ROOT_DIR}\")\n",
    "\n",
    "REF_FILES_DIR = os.path.join(ROOT_DIR, \"reference_files\")\n",
    "print(f\"REF_FILES_DIR: {REF_FILES_DIR}\")\n",
    "\n",
    "REPORT_DIR = os.path.join(ROOT_DIR, \"reports\")\n",
    "print(f\"REPORT_DIR: {REPORT_DIR}\")"
   ]
  },
  {
   "cell_type": "code",
   "execution_count": 4,
   "id": "0b9ed503",
   "metadata": {},
   "outputs": [
    {
     "name": "stdout",
     "output_type": "stream",
     "text": [
      "Directory C:\\Users\\Nicholas\\Documents\\Python\\PowerPoint_Automation\\reports already exists\n"
     ]
    }
   ],
   "source": [
    "# Create \"reports\" folder if it does not exist\n",
    "if not os.path.exists(REPORT_DIR):\n",
    "    os.mkdir(REPORT_DIR)\n",
    "    print(f\"Directory {REPORT_DIR} created\")\n",
    "else:\n",
    "    print(f\"Directory {REPORT_DIR} already exists\")"
   ]
  },
  {
   "cell_type": "markdown",
   "id": "2ff8a224",
   "metadata": {},
   "source": [
    "## Example Data for PowerPoint"
   ]
  },
  {
   "cell_type": "code",
   "execution_count": 5,
   "id": "0fa44654",
   "metadata": {},
   "outputs": [
    {
     "data": {
      "text/html": [
       "<div>\n",
       "<style scoped>\n",
       "    .dataframe tbody tr th:only-of-type {\n",
       "        vertical-align: middle;\n",
       "    }\n",
       "\n",
       "    .dataframe tbody tr th {\n",
       "        vertical-align: top;\n",
       "    }\n",
       "\n",
       "    .dataframe thead th {\n",
       "        text-align: right;\n",
       "    }\n",
       "</style>\n",
       "<table border=\"1\" class=\"dataframe\">\n",
       "  <thead>\n",
       "    <tr style=\"text-align: right;\">\n",
       "      <th></th>\n",
       "      <th>Names</th>\n",
       "      <th>2024Q1</th>\n",
       "      <th>2024Q2</th>\n",
       "      <th>2024Q3</th>\n",
       "    </tr>\n",
       "  </thead>\n",
       "  <tbody>\n",
       "    <tr>\n",
       "      <th>0</th>\n",
       "      <td>Alex</td>\n",
       "      <td>5</td>\n",
       "      <td>2</td>\n",
       "      <td>3</td>\n",
       "    </tr>\n",
       "    <tr>\n",
       "      <th>1</th>\n",
       "      <td>Nick</td>\n",
       "      <td>6</td>\n",
       "      <td>3</td>\n",
       "      <td>4</td>\n",
       "    </tr>\n",
       "    <tr>\n",
       "      <th>2</th>\n",
       "      <td>Albert</td>\n",
       "      <td>3</td>\n",
       "      <td>5</td>\n",
       "      <td>4</td>\n",
       "    </tr>\n",
       "    <tr>\n",
       "      <th>3</th>\n",
       "      <td>Ed</td>\n",
       "      <td>4</td>\n",
       "      <td>3</td>\n",
       "      <td>2</td>\n",
       "    </tr>\n",
       "  </tbody>\n",
       "</table>\n",
       "</div>"
      ],
      "text/plain": [
       "    Names  2024Q1  2024Q2  2024Q3\n",
       "0    Alex       5       2       3\n",
       "1    Nick       6       3       4\n",
       "2  Albert       3       5       4\n",
       "3      Ed       4       3       2"
      ]
     },
     "execution_count": 5,
     "metadata": {},
     "output_type": "execute_result"
    }
   ],
   "source": [
    "# Dictonary of data\n",
    "data_dict = {\n",
    "    'Names': ['Alex', 'Nick', 'Albert', 'Ed'],\n",
    "    '2024Q1': [5, 6, 3, 4],\n",
    "    '2024Q2': [2, 3, 5, 3],\n",
    "    '2024Q3': [3, 4, 4, 2],\n",
    "}\n",
    "\n",
    "df = pd.DataFrame.from_dict(data_dict)\n",
    "df"
   ]
  },
  {
   "cell_type": "markdown",
   "id": "7b9f0424",
   "metadata": {},
   "source": [
    "## Build PowerPoint Presentation"
   ]
  },
  {
   "cell_type": "code",
   "execution_count": 6,
   "id": "6ee9c334",
   "metadata": {},
   "outputs": [],
   "source": [
    "# Import PowerPoint Template\n",
    "ppt = Presentation(os.path.join(REF_FILES_DIR, 'PowerPoint_Temp.pptx'))"
   ]
  },
  {
   "cell_type": "markdown",
   "id": "eb6d45cb",
   "metadata": {},
   "source": [
    "### Title Slide"
   ]
  },
  {
   "cell_type": "code",
   "execution_count": 7,
   "id": "3b6cb6ad",
   "metadata": {},
   "outputs": [
    {
     "data": {
      "text/plain": [
       "'[PLACEHOLDER] Example Presentation'"
      ]
     },
     "execution_count": 7,
     "metadata": {},
     "output_type": "execute_result"
    }
   ],
   "source": [
    "# Title slide is the first slide in template\n",
    "title_slide = ppt.slides[0]\n",
    "\n",
    "# Check text\n",
    "title_slide.placeholders[0].text"
   ]
  },
  {
   "cell_type": "code",
   "execution_count": 8,
   "id": "4df4554a",
   "metadata": {},
   "outputs": [
    {
     "data": {
      "text/plain": [
       "'Units Sold Example Presentation'"
      ]
     },
     "execution_count": 8,
     "metadata": {},
     "output_type": "execute_result"
    }
   ],
   "source": [
    "# Replace '[PLACEHOLDER]' with any text you like\n",
    "title_slide.placeholders[0].text = title_slide.placeholders[0].text.replace('[PLACEHOLDER]', \"Units Sold\")\n",
    "\n",
    "# Check text\n",
    "title_slide.placeholders[0].text"
   ]
  },
  {
   "cell_type": "markdown",
   "id": "63f619d7",
   "metadata": {},
   "source": [
    "**NOTE:** Since the title slide is using the PowerPoint color theme, you will not have to update the text font and/or color to match what is already there. If the text just in a text box without the defualt color theme, you will have to specify the text font/color. You can check/edit the slide defualt format my going to View >> Slide Master."
   ]
  },
  {
   "cell_type": "markdown",
   "id": "48cff561",
   "metadata": {},
   "source": [
    "### Slide 1"
   ]
  },
  {
   "cell_type": "code",
   "execution_count": 9,
   "id": "68661e98",
   "metadata": {},
   "outputs": [
    {
     "name": "stdout",
     "output_type": "stream",
     "text": [
      "PLACEHOLDER (14)\n",
      "TABLE (19)\n",
      "TEXT_BOX (17)\n"
     ]
    }
   ],
   "source": [
    "slide1 = ppt.slides[1]\n",
    "\n",
    "# view what is in the slide\n",
    "for shape in slide1.shapes:\n",
    "    print(shape.shape_type)"
   ]
  },
  {
   "cell_type": "markdown",
   "id": "f723dcc8",
   "metadata": {},
   "source": [
    "#### Update Table"
   ]
  },
  {
   "cell_type": "code",
   "execution_count": 10,
   "id": "5ea7803b",
   "metadata": {},
   "outputs": [
    {
     "name": "stdout",
     "output_type": "stream",
     "text": [
      "COLUMN COUNT: 4\n",
      "ROW COUNT: 5\n"
     ]
    }
   ],
   "source": [
    "tbl = slide1.shapes[1].table\n",
    "\n",
    "# Get count of table columns\n",
    "col_count = len(tbl.columns)\n",
    "print(f\"COLUMN COUNT: {col_count}\")\n",
    "\n",
    "# Get count of table rows\n",
    "row_count = len(tbl.rows)\n",
    "print(f\"ROW COUNT: {row_count}\")"
   ]
  },
  {
   "cell_type": "code",
   "execution_count": 11,
   "id": "c5e8938b",
   "metadata": {},
   "outputs": [
    {
     "data": {
      "text/plain": [
       "'Name'"
      ]
     },
     "execution_count": 11,
     "metadata": {},
     "output_type": "execute_result"
    }
   ],
   "source": [
    "# View what is in table cells\n",
    "tbl.cell(0,0).text"
   ]
  },
  {
   "cell_type": "code",
   "execution_count": 12,
   "id": "a4d34413",
   "metadata": {},
   "outputs": [],
   "source": [
    "def update_tabel_cell(tbl, data, row, col):\n",
    "    '''\n",
    "    Description:\n",
    "        Updates specific table cells with data proveded and uses specific text details (size, font type, color, etc.)\n",
    "    Parameters:\n",
    "        tbl: PowerPoint table\n",
    "        data: The data you would like to add in the table cell\n",
    "        col: Specific column in table\n",
    "        row: Specific row in table\n",
    "    Returns:\n",
    "        Function does not return antything\n",
    "    '''\n",
    "    \n",
    "    cell = tbl.cell(row, col)\n",
    "    cell.text = str(data)\n",
    "    \n",
    "    para = cell.text_frame.paragraphs[0]\n",
    "    \n",
    "    # Text Font\n",
    "    para.font.name = 'Trebuchet MS (Body)'\n",
    "    \n",
    "    # Text Size\n",
    "    para.font.size = Pt(18)\n",
    "    \n",
    "    # Text Bold (TRUE/FALSE)\n",
    "    para.font.bold = False\n",
    "    \n",
    "    # Text Alignment\n",
    "    para.alignment = PP_ALIGN.RIGHT\n",
    "    \n",
    "    # text Color\n",
    "    para.font.color.rgb = RGBColor(0, 0, 0)"
   ]
  },
  {
   "cell_type": "code",
   "execution_count": 13,
   "id": "51256168",
   "metadata": {},
   "outputs": [],
   "source": [
    "#### Update Alex data ####\n",
    "## 2024Q1\n",
    "update_tabel_cell(tbl, df.iloc[0,1], 1, 1)\n",
    "\n",
    "## 2024Q2\n",
    "update_tabel_cell(tbl, df.iloc[0,2], 1, 2)\n",
    "\n",
    "## 2024Q3\n",
    "update_tabel_cell(tbl, df.iloc[0,3], 1, 3)\n",
    "\n",
    "\n",
    "#### Update Nick data ####\n",
    "## 2024Q1\n",
    "update_tabel_cell(tbl, df.iloc[1,1], 2, 1)\n",
    "\n",
    "## 2024Q2\n",
    "update_tabel_cell(tbl, df.iloc[1,2], 2, 2)\n",
    "\n",
    "## 2024Q3\n",
    "update_tabel_cell(tbl, df.iloc[1,3], 2, 3)\n",
    "\n",
    "\n",
    "#### Update Albert data ####\n",
    "## 2024Q1\n",
    "update_tabel_cell(tbl, df.iloc[2,1], 3, 1)\n",
    "\n",
    "## 2024Q2\n",
    "update_tabel_cell(tbl, df.iloc[2,2], 3, 2)\n",
    "\n",
    "## 2024Q3\n",
    "update_tabel_cell(tbl, df.iloc[2,3], 3, 3)\n",
    "\n",
    "\n",
    "#### Update Ed data ####\n",
    "## 2024Q1\n",
    "update_tabel_cell(tbl, df.iloc[3,1], 4, 1)\n",
    "\n",
    "## 2024Q2\n",
    "update_tabel_cell(tbl, df.iloc[3,2], 4, 2)\n",
    "\n",
    "## 2024Q3\n",
    "update_tabel_cell(tbl, df.iloc[3,3], 4, 3)"
   ]
  },
  {
   "cell_type": "markdown",
   "id": "17cd9155",
   "metadata": {},
   "source": [
    "#### Update Text"
   ]
  },
  {
   "cell_type": "code",
   "execution_count": 14,
   "id": "9c78ecef",
   "metadata": {},
   "outputs": [
    {
     "data": {
      "text/plain": [
       "'Besides editing tables, you can also edit text. [PLACEHOLDER] text here.'"
      ]
     },
     "execution_count": 14,
     "metadata": {},
     "output_type": "execute_result"
    }
   ],
   "source": [
    "# View text in TEXT_BOX\n",
    "slide1.shapes[2].text"
   ]
  },
  {
   "cell_type": "code",
   "execution_count": 15,
   "id": "2d5710c4",
   "metadata": {},
   "outputs": [
    {
     "data": {
      "text/plain": [
       "'Besides editing tables, you can also edit text. Sample text here.'"
      ]
     },
     "execution_count": 15,
     "metadata": {},
     "output_type": "execute_result"
    }
   ],
   "source": [
    "# Replace placeholder with text\n",
    "slide1.shapes[2].text = slide1.shapes[2].text.replace(\"[PLACEHOLDER]\", \"Sample\")\n",
    "\n",
    "# Set text formating\n",
    "slide1.shapes[2].text_frame.paragraphs[0].font.size = Pt(18)\n",
    "slide1.shapes[2].text_frame.paragraphs[0].font.name = \"Trebuchet MS (Body)\"\n",
    "\n",
    "# View text in TEXT_BOX\n",
    "slide1.shapes[2].text"
   ]
  },
  {
   "cell_type": "markdown",
   "id": "0b56f9c9",
   "metadata": {},
   "source": [
    "### Slide 2"
   ]
  },
  {
   "cell_type": "code",
   "execution_count": 16,
   "id": "99aea378",
   "metadata": {},
   "outputs": [
    {
     "name": "stdout",
     "output_type": "stream",
     "text": [
      "PLACEHOLDER (14)\n",
      "CHART (3)\n"
     ]
    }
   ],
   "source": [
    "slide2 = ppt.slides[2]\n",
    "\n",
    "# view what is in the slide\n",
    "for shape in slide2.shapes:\n",
    "    print(shape.shape_type)"
   ]
  },
  {
   "cell_type": "markdown",
   "id": "e7da6dc5",
   "metadata": {},
   "source": [
    "#### Check for Notes in Slide"
   ]
  },
  {
   "cell_type": "code",
   "execution_count": 17,
   "id": "67b3f282",
   "metadata": {},
   "outputs": [
    {
     "name": "stdout",
     "output_type": "stream",
     "text": [
      "SLIDE_IMAGE (101)\n",
      "BODY (2)\n",
      "SLIDE_NUMBER (13)\n"
     ]
    }
   ],
   "source": [
    "for placeholder in slide2.notes_slide.placeholders:\n",
    "    print(placeholder.placeholder_format.type)"
   ]
  },
  {
   "cell_type": "code",
   "execution_count": 18,
   "id": "dd2e5f70",
   "metadata": {},
   "outputs": [
    {
     "data": {
      "text/plain": [
       "'This is a sample text note within a PowerPoint. You can update this using python as well.'"
      ]
     },
     "execution_count": 18,
     "metadata": {},
     "output_type": "execute_result"
    }
   ],
   "source": [
    "slide2.notes_slide.placeholders[1].text"
   ]
  },
  {
   "cell_type": "markdown",
   "id": "05ff9077",
   "metadata": {},
   "source": [
    "#### Update Chart"
   ]
  },
  {
   "cell_type": "code",
   "execution_count": 19,
   "id": "3b11e4b1",
   "metadata": {},
   "outputs": [],
   "source": [
    "chart1 = slide2.shapes[1].chart"
   ]
  },
  {
   "cell_type": "code",
   "execution_count": 20,
   "id": "ec039d51",
   "metadata": {},
   "outputs": [
    {
     "name": "stdout",
     "output_type": "stream",
     "text": [
      "Series Name: 2024Q1\n",
      "Series Values: (None, None, None, None)\n",
      "Series Name: 2024Q2\n",
      "Series Values: (None, None, None, None)\n",
      "Series Name: 2024Q3\n",
      "Series Values: (None, None, None, None)\n"
     ]
    }
   ],
   "source": [
    "# Access the series in the shart\n",
    "for series in chart1.series:\n",
    "    print(f\"Series Name: {series.name}\")\n",
    "    print(f\"Series Values: {series.values}\")"
   ]
  },
  {
   "cell_type": "code",
   "execution_count": 21,
   "id": "7c555bbd",
   "metadata": {},
   "outputs": [],
   "source": [
    "# Prepare chart data\n",
    "chart_data = CategoryChartData()\n",
    "chart_data.categories = data_dict['Names']\n",
    "\n",
    "# Add series to the chart\n",
    "for quarter, values in data_dict.items():\n",
    "    if quarter != 'Names':  # Skip the category names\n",
    "        chart_data.add_series(quarter, values)\n",
    "        \n",
    "# Replace the chart data\n",
    "chart1.replace_data(chart_data)\n",
    "        \n",
    "# Optionally update the chart title\n",
    "chart1.has_title = True\n",
    "chart1.chart_title.text_frame.text = \"Quarterly Performance by Name\""
   ]
  },
  {
   "cell_type": "markdown",
   "id": "277ad4d6",
   "metadata": {},
   "source": [
    "## Save PowerPoint"
   ]
  },
  {
   "cell_type": "code",
   "execution_count": 22,
   "id": "030d7e88",
   "metadata": {},
   "outputs": [],
   "source": [
    "ppt.save(os.path.join(REPORT_DIR,\"Python_Example.pptx\"))"
   ]
  }
 ],
 "metadata": {
  "kernelspec": {
   "display_name": "Python 3 (ipykernel)",
   "language": "python",
   "name": "python3"
  },
  "language_info": {
   "codemirror_mode": {
    "name": "ipython",
    "version": 3
   },
   "file_extension": ".py",
   "mimetype": "text/x-python",
   "name": "python",
   "nbconvert_exporter": "python",
   "pygments_lexer": "ipython3",
   "version": "3.10.9"
  }
 },
 "nbformat": 4,
 "nbformat_minor": 5
}
